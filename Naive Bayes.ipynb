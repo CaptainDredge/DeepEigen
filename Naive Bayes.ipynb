{
 "cells": [
  {
   "cell_type": "code",
   "execution_count": 1,
   "metadata": {},
   "outputs": [],
   "source": [
    "import pandas as pd\n",
    "import numpy as np\n",
    "import matplotlib.pyplot as plt\n",
    "\n",
    "from sklearn import datasets\n",
    "from sklearn.model_selection import train_test_split\n",
    "import warnings\n",
    "warnings.filterwarnings(\"ignore\")\n",
    "%matplotlib inline"
   ]
  },
  {
   "cell_type": "code",
   "execution_count": 16,
   "metadata": {},
   "outputs": [],
   "source": [
    "digits = datasets.load_digits()"
   ]
  },
  {
   "cell_type": "code",
   "execution_count": 17,
   "metadata": {},
   "outputs": [
    {
     "data": {
      "image/png": "[encoded data removed]",
      "text/plain": [
       "<Figure size 432x288 with 4 Axes>"
      ]
     },
     "metadata": {},
     "output_type": "display_data"
    }
   ],
   "source": [
    "images_and_labels = list(zip(digits.images, digits.target))\n",
    "for index, (image, label) in enumerate(images_and_labels[:4]):\n",
    "    plt.subplot(2, 4, index + 1)\n",
    "    plt.axis('off')\n",
    "    plt.imshow(image, cmap=plt.cm.gray_r, interpolation='nearest')\n",
    "    plt.title('Training: %i' % label)"
   ]
  },
  {
   "cell_type": "code",
   "execution_count": 18,
   "metadata": {},
   "outputs": [],
   "source": [
    "n_samples = len(digits.images)\n",
    "data = digits.images.reshape((n_samples, -1))\n",
    "data = data//data.max()\n",
    "labels = digits.target"
   ]
  },
  {
   "cell_type": "code",
   "execution_count": 19,
   "metadata": {},
   "outputs": [],
   "source": [
    "Xtrain, Xtest, Ytrain, Ytest = train_test_split(data, labels, test_size = 0.2, random_state=100)"
   ]
  },
  {
   "cell_type": "code",
   "execution_count": 31,
   "metadata": {},
   "outputs": [],
   "source": [
    "xcount = np.ones((64,10)) #Laplace smoothing\n",
    "ycount = np.ones(10)"
   ]
  },
  {
   "cell_type": "code",
   "execution_count": 32,
   "metadata": {},
   "outputs": [],
   "source": [
    "for x,y in zip(Xtrain, Ytrain):\n",
    "    ycount[y] +=1\n",
    "    xcount[:,y] += x"
   ]
  },
  {
   "cell_type": "code",
   "execution_count": 33,
   "metadata": {},
   "outputs": [],
   "source": [
    "proby = ycount/ycount.sum()\n",
    "probx = xcount/ycount.reshape(1,10)"
   ]
  },
  {
   "cell_type": "code",
   "execution_count": 34,
   "metadata": {},
   "outputs": [
    {
     "data": {
      "image/png": "[encoded data removed]",
      "text/plain": [
       "<Figure size 720x720 with 10 Axes>"
      ]
     },
     "metadata": {},
     "output_type": "display_data"
    },
    {
     "name": "stdout",
     "output_type": "stream",
     "text": [
      "Class probabilities [0.09467865 0.10435384 0.09467865 0.10504492 0.10089841 0.10228058\n",
      " 0.09813407 0.09744299 0.10228058 0.10020733]\n"
     ]
    }
   ],
   "source": [
    "fig, figarr = plt.subplots(1, 10, figsize=(10, 10))\n",
    "for i in range(10):\n",
    "    figarr[i].imshow(xcount[:, i].reshape((8, 8)), cmap='hot')\n",
    "    figarr[i].axes.get_xaxis().set_visible(False)\n",
    "    figarr[i].axes.get_yaxis().set_visible(False)\n",
    "plt.show()\n",
    "print('Class probabilities', proby)"
   ]
  },
  {
   "cell_type": "code",
   "execution_count": 35,
   "metadata": {},
   "outputs": [],
   "source": [
    "logpx = np.log(probx)\n",
    "logpxneg = np.log(1.0-probx)\n",
    "logpy = np.log(proby)\n",
    "def bayespost(data):\n",
    "    # We need to incorporate the prior probability p(y) since p(y|x) is\n",
    "    # proportional to p(x|y) p(y)\n",
    "    logpost = logpy.copy()\n",
    "    logpost += (logpx * data + logpxneg * (1-data)).sum(axis=0)\n",
    "    # Normalize to prevent overflow or underflow by subtracting the largest\n",
    "    # value\n",
    "    logpost -= np.max(logpost)\n",
    "    # Compute the softmax using logpx\n",
    "    post = np.exp(logpost)\n",
    "    post /= np.sum(post)\n",
    "    return post"
   ]
  },
  {
   "cell_type": "code",
   "execution_count": 38,
   "metadata": {},
   "outputs": [
    {
     "data": {
      "image/png": "[encoded data removed]",
      "text/plain": [
       "<Figure size 720x216 with 20 Axes>"
      ]
     },
     "metadata": {},
     "output_type": "display_data"
    }
   ],
   "source": [
    "fig, figarr = plt.subplots(2, 10, figsize=(10, 3))\n",
    "# Show 10 images\n",
    "ctr = 0\n",
    "for data, label in zip(Xtest,Ytest):\n",
    "    x = data.reshape((64,1))\n",
    "    y = int(label)\n",
    "    post = bayespost(x)\n",
    "    # Bar chart and image of digit\n",
    "    figarr[1, ctr].bar(range(10), post)\n",
    "    figarr[1, ctr].axes.get_yaxis().set_visible(False)\n",
    "    figarr[0, ctr].imshow(x.reshape((8, 8)), cmap='hot')\n",
    "    figarr[0, ctr].axes.get_xaxis().set_visible(False)\n",
    "    figarr[0, ctr].axes.get_yaxis().set_visible(False)\n",
    "    ctr += 1\n",
    "    if ctr == 10:\n",
    "        break\n",
    "plt.show()"
   ]
  },
  {
   "cell_type": "code",
   "execution_count": 42,
   "metadata": {},
   "outputs": [
    {
     "name": "stdout",
     "output_type": "stream",
     "text": [
      "Naive Bayes has an accuracy of 0.7027777777777777\n"
     ]
    }
   ],
   "source": [
    "# Initialize counter\n",
    "ctr = 0\n",
    "err = 0\n",
    "for data, label in zip(Xtest, Ytest):\n",
    "    ctr += 1\n",
    "    x = data.reshape((64,1))\n",
    "    y = int(label)\n",
    "    post = bayespost(x)\n",
    "    if (post[y] < post.max()):\n",
    "        err += 1\n",
    "print('Naive Bayes has an accuracy of', (ctr-err)/ctr)"
   ]
  },
  {
   "cell_type": "code",
   "execution_count": null,
   "metadata": {},
   "outputs": [],
   "source": []
  }
 ],
 "metadata": {
  "kernelspec": {
   "display_name": "Python 3",
   "language": "python",
   "name": "python3"
  },
  "language_info": {
   "codemirror_mode": {
    "name": "ipython",
    "version": 3
   },
   "file_extension": ".py",
   "mimetype": "text/x-python",
   "name": "python",
   "nbconvert_exporter": "python",
   "pygments_lexer": "ipython3",
   "version": "3.6.7"
  }
 },
 "nbformat": 4,
 "nbformat_minor": 2
}
