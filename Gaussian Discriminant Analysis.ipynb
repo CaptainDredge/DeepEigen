{
 "cells": [
  {
   "cell_type": "markdown",
   "metadata": {},
   "source": [
    "##### In Gaussian Discriminant Analysis we try to model p(x|y) and p(y) as oppose to p(y|x) we did earlier, it’s called Generative Learning Algorithms. Once we learn the model p(y) and p(x|y) using training set, we use Bayes Rule to derive the p(y|x) as"
   ]
  },
  {
   "cell_type": "markdown",
   "metadata": {},
   "source": [
    "$p(y | x)=\\frac{p(x | y) p(y)}{p(x)}$"
   ]
  },
  {
   "cell_type": "markdown",
   "metadata": {},
   "source": [
    "##### we assume p(x|y) is distributed according to a multivariate normal distribution and p(y) is distributed according to Bernoulli. So the model is"
   ]
  },
  {
   "cell_type": "markdown",
   "metadata": {},
   "source": [
    "$\\begin{aligned} p(y) &=\\phi^{y}(1-\\phi)^{(1-y)} \\\\ p(x | y=0) &=\\frac{1}{(2 \\pi)^{n / 2}\\left|\\sum\\right|^{\\frac{1}{2}}} \\exp \\left(-\\frac{1}{2}\\left(x-\\mu_{0}\\right)^{T} \\sum_{-1}^{-1}\\left(x-\\mu_{0}\\right)\\right) \\\\ p(x | y=1) &=\\frac{1}{(2 \\pi)^{n / 2}\\left|\\sum\\right|^{\\frac{1}{2}}} \\exp \\left(-\\frac{1}{2}\\left(x-\\mu_{1}\\right)^{T} \\sum^{-1}\\left(x-\\mu_{1}\\right)\\right) \\end{aligned}$"
   ]
  },
  {
   "cell_type": "markdown",
   "metadata": {},
   "source": [
    "#### Basic Equations for finding model parameters for GDA\n",
    "\n",
    "We can derive this equation by simply equating the derivative of log likelihood to zero in order to maximize likelihood"
   ]
  },
  {
   "cell_type": "markdown",
   "metadata": {},
   "source": [
    "\\begin{aligned} \\phi &=\\frac{1}{m} \\sum_{i=1}^{m} 1\\left\\{y^{(i)}=1\\right\\} \\\\ \\mu_{0} &=\\frac{\\sum_{i=1}^{m} 1\\left\\{y^{(i)}=0\\right\\} x^{(i)}}{\\sum_{i=1}^{m} 1\\left\\{y^{(i)}=0\\right\\}} \\\\ \\mu_{1} &=\\frac{\\sum_{i=1}^{m} 1\\left\\{y^{(i)}=1\\right\\} x^{(i)}}{\\sum_{i=1}^{m} 1\\left\\{y^{(i)}=1\\right\\}} \\\\ \\sum &=\\frac{1}{m} \\sum_{i=1}^{m}\\left(x^{(i)}-\\mu_{k}\\right)\\left(x^{(i)}-\\mu_{k}\\right)^{T} \\text { where } k=1\\left\\{y^{(i)}=1\\right\\} \\end{aligned}"
   ]
  },
  {
   "cell_type": "code",
   "execution_count": 1,
   "metadata": {},
   "outputs": [],
   "source": [
    "#import necessary libraries\n",
    "\n",
    "import math\n",
    "\n",
    "import numpy as np\n",
    "import matplotlib.pyplot as plt\n",
    "\n",
    "from sklearn.datasets import make_classification\n",
    "from sklearn.model_selection import train_test_split\n",
    "from sklearn.metrics import accuracy_score"
   ]
  },
  {
   "cell_type": "code",
   "execution_count": 52,
   "metadata": {},
   "outputs": [],
   "source": [
    "def calculate_phi(y):\n",
    "    \"\"\"\n",
    "        calculates phi according to derived formulae \n",
    "        \\phi=\\frac{1}{m} \\sum_{i=1}^{m} 1\\left\\{y^{(i)}=1\\right\\}\n",
    "    \"\"\"\n",
    "    y_1 = y.sum()\n",
    "    \n",
    "    return y_1/len(y)"
   ]
  },
  {
   "cell_type": "code",
   "execution_count": 3,
   "metadata": {},
   "outputs": [],
   "source": [
    "def calculate_mu0(X,y):\n",
    "    \"\"\"\n",
    "        calculates mean vector for negative class conditional distribution \n",
    "        according to derived formulae \\mu_{0}=\\frac{\\sum_{i=1}^{m} 1\\left\\{y^{(i)}=0\\right\\} x^{(i)}}\n",
    "        {\\sum_{i=1}^{m} 1\\left\\{y^{(i)}=0\\right\\}}\n",
    "    \"\"\"\n",
    "    mu_0 = np.zeros(X.shape[1])\n",
    "    \n",
    "    for xi,yi in zip(X,y):\n",
    "        mu_0 += xi*(1 if yi == 0 else 0)\n",
    "    y_0 = (y==0).sum()\n",
    "    \n",
    "    mu_0 /= y_0\n",
    "    \n",
    "    return mu_0"
   ]
  },
  {
   "cell_type": "code",
   "execution_count": 53,
   "metadata": {},
   "outputs": [],
   "source": [
    "def calculate_mu1(X,y):\n",
    "    \"\"\"\n",
    "        calculates mean vector for positive class conditional distribution \n",
    "        according to derived formulae \\mu_{1}=\\frac{\\sum_{i=1}^{m} 1\\left\\{y^{(i)}=1\\right\\} x^{(i)}}\n",
    "        {\\sum_{i=1}^{m} 1\\left\\{y^{(i)}=1\\right\\}}\n",
    "    \"\"\"\n",
    "    mu_1 = np.zeros(X.shape[1])\n",
    "    \n",
    "    for xi,yi in zip(X,y):\n",
    "        mu_1 += xi*(1 if yi == 1 else 0)\n",
    "    y_1 = y.sum()\n",
    "    \n",
    "    mu_1 /= y_1\n",
    "    \n",
    "    return mu_1"
   ]
  },
  {
   "cell_type": "code",
   "execution_count": 54,
   "metadata": {},
   "outputs": [],
   "source": [
    "def calculate_covariance(X, y, mu_0, mu_1):\n",
    "    \"\"\"\n",
    "        calculates covariance matrix according to\n",
    "        derived formulae \\sum=\\frac{1}{m} \\sum_{i=1}^{m}\\left(x^{(i)}-\\mu_{k}\\right)\\left(x^{(i)}-\\mu_{k}\n",
    "        \\right)^{T} \\text { where } k=1\\left\\{y^{(i)}=1\\right\\}\n",
    "    \"\"\"\n",
    "    mu_0 = mu_0.reshape(mu_0.shape[0],-1)\n",
    "    mu_1 = mu_1.reshape(mu_1.shape[0],-1)\n",
    "    \n",
    "    sigma = np.zeros([X.shape[1],X.shape[1]])\n",
    "    \n",
    "    for xi,yi in zip(X,y):\n",
    "        mu = mu_0 if yi==0 else mu_1\n",
    "        xi = xi.reshape(xi.shape[0],-1)\n",
    "        sigma += np.matmul((xi - mu),(xi-mu).T)\n",
    "        \n",
    "    sigma /= len(y)\n",
    "    \n",
    "    return sigma"
   ]
  },
  {
   "cell_type": "markdown",
   "metadata": {},
   "source": [
    "Log likelihood = $\\log \\prod_{i=1}^{m} p\\left(x | y ; \\phi, \\mu_{k}, \\sum\\right) p(y ; \\phi)$\n",
    "               = $\\log \\prod_{i=1}^{m}\\left(\\frac{1}{(2 \\pi)^{n / 2}\\left|\\sum\\right|^{\\frac{1}{2}}} \\exp \\left(-\\frac{1}{2}\\left(x-\\mu_{k}\\right)^{T} \\sum^{-1}\\left(x-\\mu_{k}\\right)\\right)\\right) \\cdot \\phi^{y}(1-\\phi)^{(1-y)}$"
   ]
  },
  {
   "cell_type": "markdown",
   "metadata": {},
   "source": [
    "After simplification we get \n",
    "\n",
    "Log likelihood = $\\sum_{i=1}^{m}\\left[-\\frac{n}{2} \\log 2 \\pi-\\frac{1}{2} \\log \\left|\\sum\\right|-\\frac{1}{2}(x-\\mu)^{T} \\sum^{-1}(x-\\mu)+y \\log \\phi+(1-y) \\log (1-\\phi)\\right]$"
   ]
  },
  {
   "cell_type": "code",
   "execution_count": 55,
   "metadata": {},
   "outputs": [],
   "source": [
    "def net_log_prob(x, mu_0, mu_1, sigma, phi):\n",
    "    \"\"\"\n",
    "        Taking difference of log likelihood for postive and negative class i.e LL(x=1) - LL(x=0)\n",
    "    \"\"\"\n",
    "    lognormal1 = np.float64(((x - mu_1).T @ sigma.I @ (x - mu_1)) / 2)\n",
    "    lognormal0 = np.float64(((x - mu_0).T @ sigma.I @ (x - mu_0)) / 2)\n",
    "    logbinomial = np.log(phi / (1-phi))\n",
    "\n",
    "    return lognormal0 - lognormal1 + logbinomial"
   ]
  },
  {
   "cell_type": "code",
   "execution_count": 56,
   "metadata": {},
   "outputs": [],
   "source": [
    "def plot_decision_boundary(mu_0, mu_1, sigma, phi, ax, fill=False):\n",
    "    \"\"\"\n",
    "        Plot decision boundary of model upto first level\n",
    "        Note: change fill to true for continous contour map\n",
    "    \"\"\"\n",
    "    x1 = np.linspace(-xmax, xmax, 100)\n",
    "    x2 = np.linspace(-xmax, xmax, 100)\n",
    "    x1, x2 = np.meshgrid(x1, x2)\n",
    "\n",
    "    z = np.zeros(x1.shape)\n",
    "\n",
    "    mu_0 = mu_0.reshape(mu_0.shape[0], -1)\n",
    "    mu_1 = mu_1.reshape(mu_1.shape[0], -1)\n",
    "    sigma = np.matrix(sigma)\n",
    "\n",
    "    for i in range(0, len(z)):\n",
    "        for j in range(0, len(z[0])):\n",
    "            x = np.array([x1[i][j], x2[i][j]]).reshape(2, -1)\n",
    "            z[i][j] = net_log_prob(x, mu_0, mu_1, sigma, phi)\n",
    "    if not fill:\n",
    "        bx = ax.contour(x1, x2, z, levels=[0])\n",
    "    else:\n",
    "        bx = ax.contourf(x1, x2, z)\n",
    "        plt.colorbar(bx)\n",
    "    return bx"
   ]
  },
  {
   "cell_type": "code",
   "execution_count": 57,
   "metadata": {},
   "outputs": [],
   "source": [
    "def scatterplot(X, y):\n",
    "    \"\"\"\n",
    "        Plot datapoints\n",
    "    \"\"\"\n",
    "    ax = fig.add_subplot(1, 1, 1)\n",
    "    ax.set_title('Scatter Plot and decision boundary')\n",
    "\n",
    "    xone = X[:, 0]\n",
    "    xtwo = X[:, 1]\n",
    "\n",
    "    xone_yis1 = []\n",
    "    xtwo_yis1 = []\n",
    "\n",
    "    xone_yis0 = []\n",
    "    xtwo_yis0 = []\n",
    "\n",
    "    for x1, x2, y in zip(xone, xtwo, y):\n",
    "        if y == 1:\n",
    "            xone_yis1.append(x1)\n",
    "            xtwo_yis1.append(x2)\n",
    "        else:\n",
    "            xone_yis0.append(x1)\n",
    "            xtwo_yis0.append(x2)\n",
    "\n",
    "    plt.xlabel(\"x1\")\n",
    "    plt.ylabel(\"x2\")\n",
    "    plt.xlim((-math.ceil(xmax), math.ceil(xmax)))\n",
    "    plt.ylim((-math.ceil(xmax), math.ceil(xmax)))\n",
    "\n",
    "    y0 = plt.scatter(xone_yis0, xtwo_yis0, marker='o')\n",
    "    y1 = plt.scatter(xone_yis1, xtwo_yis1, marker='x')\n",
    "    ax.legend([y0, y1], ['Negative', 'Positive'])\n",
    "\n",
    "    return ax"
   ]
  },
  {
   "cell_type": "code",
   "execution_count": 5,
   "metadata": {},
   "outputs": [],
   "source": [
    "# Generate Dataset\n",
    "X, y = make_classification(n_samples=120,n_features=2, n_redundant=0, n_informative=2,\n",
    "                           random_state=69, n_clusters_per_class=1)"
   ]
  },
  {
   "cell_type": "code",
   "execution_count": 24,
   "metadata": {},
   "outputs": [],
   "source": [
    "# Define maximum value of our dataset\n",
    "global xmax \n",
    "xmax= X.max()"
   ]
  },
  {
   "cell_type": "code",
   "execution_count": 6,
   "metadata": {},
   "outputs": [],
   "source": [
    "# Split Dataset into trainin and testing\n",
    "Xtrain, Xtest, ytrain, ytest = train_test_split(X, y, test_size=0.2, random_state = 100)"
   ]
  },
  {
   "cell_type": "code",
   "execution_count": 49,
   "metadata": {
    "scrolled": true
   },
   "outputs": [
    {
     "data": {
      "image/png": "[encoded data removed]",
      "text/plain": [
       "<Figure size 432x288 with 1 Axes>"
      ]
     },
     "metadata": {},
     "output_type": "display_data"
    }
   ],
   "source": [
    "# Calculate model parameters and plot decision boundary\n",
    "fig = plt.figure()\n",
    "ax = scatterplot(Xtrain, ytrain)\n",
    "\n",
    "Phi = calculate_phi(ytrain)\n",
    "mu_0 = calculate_mu0(Xtrain,ytrain)\n",
    "mu_1 = calculate_mu1(Xtrain,ytrain)\n",
    "Sigma = calculate_covariance(Xtrain, ytrain, mu_0, mu_1)\n",
    "bx = plot_decision_boundary(mu_0, mu_1, Sigma, Phi, ax, fill = False)\n",
    "plt.show()"
   ]
  },
  {
   "cell_type": "code",
   "execution_count": 51,
   "metadata": {},
   "outputs": [
    {
     "data": {
      "image/png": "[encoded data removed]",
      "text/plain": [
       "<Figure size 432x288 with 2 Axes>"
      ]
     },
     "metadata": {},
     "output_type": "display_data"
    }
   ],
   "source": [
    "# plot continous contour map\n",
    "fig = plt.figure()\n",
    "ax = scatterplot(Xtrain, ytrain)\n",
    "bx = plot_decision_boundary(mu_0, mu_1, Sigma, Phi, ax, fill = True)\n",
    "plt.show()"
   ]
  },
  {
   "cell_type": "code",
   "execution_count": 67,
   "metadata": {},
   "outputs": [],
   "source": [
    "def predict(Xtest):\n",
    "    \"\"\"\n",
    "        Predict on test dataset\n",
    "    \"\"\"\n",
    "    raw_scores = np.zeros([Xtest.shape[0]])\n",
    "    \n",
    "    for i,x in enumerate(Xtest):\n",
    "        raw_scores[i] = net_log_prob(x, mu_0, mu_1, np.matrix(Sigma), Phi)\n",
    "    \n",
    "    return np.where(raw_scores>0,1,0)"
   ]
  },
  {
   "cell_type": "code",
   "execution_count": 72,
   "metadata": {},
   "outputs": [],
   "source": [
    "ypred = predict(Xtest)"
   ]
  },
  {
   "cell_type": "code",
   "execution_count": 59,
   "metadata": {},
   "outputs": [
    {
     "name": "stdout",
     "output_type": "stream",
     "text": [
      "Our Gaussian Discriminant Analysis model has an accuracy of 95.83333333333334 %\n"
     ]
    }
   ],
   "source": [
    "# calculate accuracy on test dataset\n",
    "print(\"Our Gaussian Discriminant Analysis model has an accuracy of {} %\".format(accuracy_score(ypred, ytest)*100))"
   ]
  },
  {
   "cell_type": "code",
   "execution_count": 60,
   "metadata": {},
   "outputs": [],
   "source": [
    "# Class for Gaussian Discriminant analysis model\n",
    "class GDA():\n",
    "    \n",
    "    def __init__(self):\n",
    "        self.mu_0 = None\n",
    "        self.mu_1 = None\n",
    "        self.sigma = None\n",
    "        self.phi = None\n",
    "        self.X = None\n",
    "        self.y = None\n",
    "    @staticmethod    \n",
    "    def calculate_phi(y):\n",
    "    \n",
    "        y_1 = y.sum()\n",
    "\n",
    "        return y_1/len(y)\n",
    "    @staticmethod\n",
    "    def calculate_mu0(X,y):\n",
    "    \n",
    "        mu_0 = np.zeros(X.shape[1])\n",
    "\n",
    "        for xi,yi in zip(X,y):\n",
    "            mu_0 += xi*(1 if yi == 0 else 0)\n",
    "        y_0 = (y==0).sum()\n",
    "\n",
    "        mu_0 /= y_0\n",
    "\n",
    "        return mu_0\n",
    "    @staticmethod\n",
    "    def calculate_mu1(X,y):\n",
    "    \n",
    "        mu_1 = np.zeros(X.shape[1])\n",
    "\n",
    "        for xi,yi in zip(X,y):\n",
    "            mu_1 += xi*(1 if yi == 1 else 0)\n",
    "        y_1 = y.sum()\n",
    "\n",
    "        mu_1 /= y_1\n",
    "\n",
    "        return mu_1\n",
    "    @staticmethod\n",
    "    def calculate_covariance(X, y, mu_0, mu_1):\n",
    "    \n",
    "        mu_0 = mu_0.reshape(mu_0.shape[0],-1)\n",
    "        mu_1 = mu_1.reshape(mu_1.shape[0],-1)\n",
    "\n",
    "        sigma = np.zeros([X.shape[1],X.shape[1]])\n",
    "\n",
    "        for xi,yi in zip(X,y):\n",
    "            mu = mu_0 if yi==0 else mu_1\n",
    "            xi = xi.reshape(xi.shape[0],-1)\n",
    "            sigma += np.matmul((xi - mu),(xi-mu).T)\n",
    "\n",
    "        sigma /= len(y)\n",
    "\n",
    "        return sigma\n",
    "    @staticmethod\n",
    "    def net_log_prob(x, mu_0, mu_1, sigma, phi):\n",
    "    \n",
    "        lognormal1 = np.float64(((x - mu_1).T @ sigma.I @ (x - mu_1)) / 2)\n",
    "        lognormal0 = np.float64(((x - mu_0).T @ sigma.I @ (x - mu_0)) / 2)\n",
    "        logbinomial = np.log(phi / (1-phi))\n",
    "\n",
    "        return lognormal0 - lognormal1 + logbinomial\n",
    "\n",
    "    def fit(self, X, y):\n",
    "        \n",
    "        self.X = X\n",
    "        self.y = y\n",
    "        self.mu_0 = GDA.calculate_mu0(X,y)\n",
    "        self.mu_1 = GDA.calculate_mu1(X,y)\n",
    "        self.sigma = GDA.calculate_covariance(X, y, self.mu_0, self.mu_1)\n",
    "        self.phi = GDA.calculate_phi(y)\n",
    "    \n",
    "    def scatterplot(self):\n",
    "        \n",
    "        fig = plt.figure()\n",
    "        ax = fig.add_subplot(1, 1, 1)\n",
    "        ax.set_title('Scatter Plot and Decision boundary')\n",
    "\n",
    "        xone = self.X[:, 0]\n",
    "        xtwo = self.X[:, 1]\n",
    "\n",
    "        xone_yis1 = []\n",
    "        xtwo_yis1 = []\n",
    "\n",
    "        xone_yis0 = []\n",
    "        xtwo_yis0 = []\n",
    "\n",
    "        for x1, x2, y in zip(xone, xtwo, self.y):\n",
    "            if y == 1:\n",
    "                xone_yis1.append(x1)\n",
    "                xtwo_yis1.append(x2)\n",
    "            else:\n",
    "                xone_yis0.append(x1)\n",
    "                xtwo_yis0.append(x2)\n",
    "\n",
    "        plt.xlabel(\"x1\")\n",
    "        plt.ylabel(\"x2\")\n",
    "        xmax= self.X.max()\n",
    "        plt.xlim((-math.ceil(xmax), math.ceil(xmax)))\n",
    "        plt.ylim((-math.ceil(xmax), math.ceil(xmax)))\n",
    "\n",
    "        y0 = plt.scatter(xone_yis0, xtwo_yis0, marker='o')\n",
    "        y1 = plt.scatter(xone_yis1, xtwo_yis1, marker='x')\n",
    "        ax.legend([y0, y1], ['Negative', 'Positive'])\n",
    "\n",
    "        return ax\n",
    "    \n",
    "    def plot_decision_boundary(self, fill = False):\n",
    "        \n",
    "        ax = self.scatterplot()\n",
    "        xmax= self.X.max()\n",
    "        x1 = np.linspace(-xmax, xmax, 100)\n",
    "        x2 = np.linspace(-xmax, xmax, 100)\n",
    "        x1, x2 = np.meshgrid(x1, x2)\n",
    "\n",
    "        z = np.zeros(x1.shape)\n",
    "\n",
    "        mu_0 = self.mu_0.reshape(self.mu_0.shape[0], -1)\n",
    "        mu_1 = self.mu_1.reshape(self.mu_1.shape[0], -1)\n",
    "        sigma = np.matrix(self.sigma)\n",
    "\n",
    "        for i in range(0, len(z)):\n",
    "            for j in range(0, len(z[0])):\n",
    "                x = np.array([x1[i][j], x2[i][j]]).reshape(2, -1)\n",
    "                z[i][j] = GDA.net_log_prob(x, mu_0, mu_1, sigma, self.phi)\n",
    "        if not fill:\n",
    "            bx = ax.contour(x1, x2, z, levels=[0])\n",
    "        else:\n",
    "            bx = ax.contourf(x1, x2, z)\n",
    "            plt.colorbar(bx)\n",
    "        plt.show()\n",
    "        return\n",
    "    \n",
    "    def predict(self, Xtest):\n",
    "        raw_scores = np.zeros([Xtest.shape[0],])\n",
    "        \n",
    "        mu_0 = self.mu_0.reshape(self.mu_0.shape[0], -1)\n",
    "        mu_1 = self.mu_1.reshape(self.mu_1.shape[0], -1)\n",
    "        sigma = np.matrix(self.sigma)\n",
    "        \n",
    "        for i,x in enumerate(Xtest):\n",
    "            raw_scores[i] = GDA.net_log_prob(x.reshape(x.shape[0],-1), mu_0, mu_1, sigma, self.phi)\n",
    "\n",
    "        return np.where(raw_scores>0,1,0)"
   ]
  },
  {
   "cell_type": "code",
   "execution_count": 49,
   "metadata": {},
   "outputs": [],
   "source": [
    "gda = GDA()"
   ]
  },
  {
   "cell_type": "code",
   "execution_count": 50,
   "metadata": {},
   "outputs": [],
   "source": [
    "gda.fit(Xtrain,ytrain)"
   ]
  },
  {
   "cell_type": "code",
   "execution_count": 51,
   "metadata": {
    "scrolled": true
   },
   "outputs": [
    {
     "data": {
      "image/png": "[encoded data removed]",
      "text/plain": [
       "<Figure size 432x288 with 1 Axes>"
      ]
     },
     "metadata": {},
     "output_type": "display_data"
    }
   ],
   "source": [
    "gda.plot_decision_boundary()"
   ]
  },
  {
   "cell_type": "code",
   "execution_count": 41,
   "metadata": {},
   "outputs": [],
   "source": [
    "ypred = gda.predict(Xtest)"
   ]
  },
  {
   "cell_type": "code",
   "execution_count": 43,
   "metadata": {},
   "outputs": [
    {
     "data": {
      "text/plain": [
       "95.83333333333334"
      ]
     },
     "execution_count": 43,
     "metadata": {},
     "output_type": "execute_result"
    }
   ],
   "source": [
    "accuracy_score(ypred, ytest)*100"
   ]
  },
  {
   "cell_type": "code",
   "execution_count": null,
   "metadata": {},
   "outputs": [],
   "source": []
  }
 ],
 "metadata": {
  "kernelspec": {
   "display_name": "Python 3",
   "language": "python",
   "name": "python3"
  },
  "language_info": {
   "codemirror_mode": {
    "name": "ipython",
    "version": 3
   },
   "file_extension": ".py",
   "mimetype": "text/x-python",
   "name": "python",
   "nbconvert_exporter": "python",
   "pygments_lexer": "ipython3",
   "version": "3.6.7"
  }
 },
 "nbformat": 4,
 "nbformat_minor": 2
}
